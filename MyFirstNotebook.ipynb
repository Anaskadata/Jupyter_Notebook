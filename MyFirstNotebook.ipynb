{
 "cells": [
  {
   "cell_type": "markdown",
   "id": "99f5d513-eded-4f8d-9ea4-46cbf592c72e",
   "metadata": {},
   "source": [
    "# Introduction\n",
    "*My name is **Aksana**. I am a junior data analyst.\n",
    "- I have been studying SQL, Power BI, Tableau, and Python. And I have already publushed two projects in my portfolio.\n",
    "- My goal is to become a highly professional data analyst.\n",
    "- My hobbies include riding a bycicle, doing joga and reading hictorical books.*"
   ]
  },
  {
   "cell_type": "code",
   "execution_count": 1,
   "id": "ce15138b-3168-448b-a1c4-ae8c77fced9e",
   "metadata": {},
   "outputs": [
    {
     "name": "stdout",
     "output_type": "stream",
     "text": [
      "Hello World\n"
     ]
    }
   ],
   "source": [
    "#The code below prints text\n",
    "print(\"Hello World\")"
   ]
  },
  {
   "cell_type": "markdown",
   "id": "4d9b1c1a-05ec-41f0-90f6-a91598fb2800",
   "metadata": {},
   "source": [
    "# A Guide How To Calculate The Factorial of A Number In Python\n",
    "\n",
    "1. To take input from the user write a code:\n",
    "\n",
    "`x = int(input(\"Enter a number: \"))`  \n",
    "\n",
    "2. OR to put an input value write:\n",
    "\n",
    "`x = 3`  \n",
    "\n",
    "`f = 1`\n",
    "\n",
    "3. Check if the number is negative, zero or positive:\n",
    "\n",
    "`if x < 0:`  \n",
    "\n",
    "`   print(\"Factorial can not be calculated for a negative number\")`  \n",
    "\n",
    "`elif x == 0:`  \n",
    "\n",
    "`   print(\"The factorial of 0 is 1\")`  \n",
    "\n",
    "`else:`  \n",
    "\n",
    "`   for i in range(1,x + 1):`  \n",
    "\n",
    "`   f = f * i`  \n",
    "\n",
    "`print(\"Factorial of \", x, \"is \", f)`  \n",
    "\n",
    "4. Run the code.\n",
    "\n",
    "5. Output for x = 3 is shown below:\n",
    "\n",
    "`Factorial of 3 is 6`  "
   ]
  },
  {
   "cell_type": "code",
   "execution_count": 3,
   "id": "3accb35f-1be5-4c9a-942c-cae944b98bb0",
   "metadata": {},
   "outputs": [],
   "source": [
    "x = int(5)"
   ]
  },
  {
   "cell_type": "code",
   "execution_count": 4,
   "id": "90f3f121-b16a-4b40-8a63-4a2086fc4cd0",
   "metadata": {},
   "outputs": [
    {
     "name": "stdout",
     "output_type": "stream",
     "text": [
      "5\n"
     ]
    }
   ],
   "source": [
    "print(x)"
   ]
  },
  {
   "cell_type": "markdown",
   "id": "43204a72-b461-4ffb-b202-1bc0b8cc5367",
   "metadata": {},
   "source": [
    "# Three most useful shortcuts:\n",
    "\n",
    "1. Esc: Switch to Command Mode\n",
    "\n",
    "2. Enter: Switch to Edit Mode\n",
    "\n",
    "3. In Command Mode:\n",
    "\n",
    "   - m/y: Change the cell type to Markdown (m) or code (y);\n",
    "  \n",
    "   - x: Undo.  "
   ]
  },
  {
   "cell_type": "code",
   "execution_count": null,
   "id": "7ffd5d42-d89c-4ec1-b715-36eb40807584",
   "metadata": {},
   "outputs": [],
   "source": []
  }
 ],
 "metadata": {
  "kernelspec": {
   "display_name": "Python 3 (ipykernel)",
   "language": "python",
   "name": "python3"
  },
  "language_info": {
   "codemirror_mode": {
    "name": "ipython",
    "version": 3
   },
   "file_extension": ".py",
   "mimetype": "text/x-python",
   "name": "python",
   "nbconvert_exporter": "python",
   "pygments_lexer": "ipython3",
   "version": "3.11.4"
  }
 },
 "nbformat": 4,
 "nbformat_minor": 5
}
